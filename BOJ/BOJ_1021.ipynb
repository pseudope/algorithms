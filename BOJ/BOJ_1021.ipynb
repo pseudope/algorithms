{
  "nbformat": 4,
  "nbformat_minor": 0,
  "metadata": {
    "colab": {
      "name": "BOJ_1021.ipynb",
      "provenance": [],
      "collapsed_sections": [],
      "authorship_tag": "ABX9TyMoMcDLNzvGxmEamxX+QVX3"
    },
    "kernelspec": {
      "name": "python3",
      "display_name": "Python 3"
    },
    "language_info": {
      "name": "python"
    }
  },
  "cells": [
    {
      "cell_type": "markdown",
      "source": [
        "# [1021] 회전하는 큐\n",
        "\n",
        "* Deque"
      ],
      "metadata": {
        "id": "GW-zIx8EzTRt"
      }
    },
    {
      "cell_type": "code",
      "execution_count": 1,
      "metadata": {
        "colab": {
          "base_uri": "https://localhost:8080/"
        },
        "id": "Xa72hTffzRio",
        "outputId": "cc5beed5-21a0-4c3c-f083-25197f871552"
      },
      "outputs": [
        {
          "output_type": "stream",
          "name": "stdout",
          "text": [
            "32 6\n",
            "27 16 30 11 6 23\n",
            "59\n"
          ]
        }
      ],
      "source": [
        "from collections import deque\n",
        "\n",
        "n, m = map(int, input().split())\n",
        "num_deque = deque(range(1, 1 + n))\n",
        "check_list = deque(list(map(int, input().split())))\n",
        "count = 0\n",
        "\n",
        "while check_list:\n",
        "\n",
        "    check = check_list.popleft()\n",
        "    index = num_deque.index(check)\n",
        "\n",
        "    if index < n - index:\n",
        "        num_deque.rotate(-index)\n",
        "        count += index\n",
        "    else:\n",
        "        num_deque.rotate(n - index)\n",
        "        count += (n - index)\n",
        "    \n",
        "    n -= 1\n",
        "    num_deque.popleft()\n",
        "\n",
        "print(count)"
      ]
    }
  ]
}