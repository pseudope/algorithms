{
  "nbformat": 4,
  "nbformat_minor": 0,
  "metadata": {
    "colab": {
      "name": "BOJ_10464.ipynb",
      "provenance": [],
      "authorship_tag": "ABX9TyOPxRqF4EyIkwA6sOOwW9u3"
    },
    "kernelspec": {
      "name": "python3",
      "display_name": "Python 3"
    },
    "language_info": {
      "name": "python"
    }
  },
  "cells": [
    {
      "cell_type": "markdown",
      "source": [
        "# [10464] XOR\n",
        "\n",
        "* Ad-Hoc\n",
        "* XOR\n",
        "* Mathematics"
      ],
      "metadata": {
        "id": "GW-zIx8EzTRt"
      }
    },
    {
      "cell_type": "code",
      "execution_count": 1,
      "metadata": {
        "colab": {
          "base_uri": "https://localhost:8080/"
        },
        "id": "Xa72hTffzRio",
        "outputId": "fff7f858-1e16-47cf-c8ca-257ce58ef7d2"
      },
      "outputs": [
        {
          "output_type": "stream",
          "name": "stdout",
          "text": [
            "5\n",
            "3 10\n",
            "8\n",
            "5 5\n",
            "5\n",
            "13 42\n",
            "39\n",
            "666 1337\n",
            "0\n",
            "1234567 89101112\n",
            "89998783\n"
          ]
        }
      ],
      "source": [
        "for _ in range(int(input())):\n",
        "    s, e = map(int, input().split())\n",
        "\n",
        "    if e % 4 == 3:\n",
        "        right = 0\n",
        "\n",
        "    else:\n",
        "        right = e\n",
        "        while e % 4 != 0:\n",
        "            e -= 1\n",
        "            right ^= e\n",
        "\n",
        "    if s % 4 == 0:\n",
        "        left = 0\n",
        "\n",
        "    else:\n",
        "        left = s - 1\n",
        "        while s % 4 != 1:\n",
        "            s -= 1\n",
        "            left ^= (s - 1)\n",
        "\n",
        "    print(left ^ right)"
      ]
    }
  ]
}