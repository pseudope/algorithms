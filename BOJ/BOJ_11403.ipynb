{
  "nbformat": 4,
  "nbformat_minor": 0,
  "metadata": {
    "colab": {
      "name": "BOJ_11403.ipynb",
      "provenance": [],
      "authorship_tag": "ABX9TyPpnvEPOjNq/G42KRBL1CQN"
    },
    "kernelspec": {
      "name": "python3",
      "display_name": "Python 3"
    },
    "language_info": {
      "name": "python"
    }
  },
  "cells": [
    {
      "cell_type": "markdown",
      "source": [
        "# [11403] 경로 찾기\n",
        "\n",
        "* Floyd-Washall"
      ],
      "metadata": {
        "id": "GW-zIx8EzTRt"
      }
    },
    {
      "cell_type": "code",
      "execution_count": 1,
      "metadata": {
        "colab": {
          "base_uri": "https://localhost:8080/"
        },
        "id": "Xa72hTffzRio",
        "outputId": "59f2feec-262c-4189-9ebe-515be5dcd08a"
      },
      "outputs": [
        {
          "output_type": "stream",
          "name": "stdout",
          "text": [
            "7\n",
            "0 0 0 1 0 0 0\n",
            "0 0 0 0 0 0 1\n",
            "0 0 0 0 0 0 0\n",
            "0 0 0 0 1 1 0\n",
            "1 0 0 0 0 0 0\n",
            "0 0 0 0 0 0 1\n",
            "0 0 1 0 0 0 0\n",
            "1 0 1 1 1 1 1\n",
            "0 0 1 0 0 0 1\n",
            "0 0 0 0 0 0 0\n",
            "1 0 1 1 1 1 1\n",
            "1 0 1 1 1 1 1\n",
            "0 0 1 0 0 0 1\n",
            "0 0 1 0 0 0 0\n"
          ]
        }
      ],
      "source": [
        "def floyd(n):\n",
        "\n",
        "    dist = [[float(\"inf\")] * n for _ in range(n)]\n",
        "    graph = make_graph(n)\n",
        "\n",
        "    for num_set in graph:\n",
        "        a, b = num_set\n",
        "        dist[a - 1][b - 1] = min(dist[a - 1][b - 1], 1)\n",
        "    \n",
        "    for i in range(n):\n",
        "        for j in range(n):\n",
        "            for k in range(n):\n",
        "                dist[j][k] = min(dist[j][k], dist[j][i] + dist[i][k])\n",
        "    \n",
        "    return dist\n",
        "\n",
        "def make_graph(n):\n",
        "\n",
        "    graph = []\n",
        "\n",
        "    for i in range(1, 1 + n):\n",
        "        num_list = list(map(int, input().split()))\n",
        "\n",
        "        for j, num in enumerate(num_list):\n",
        "            if num == 1:\n",
        "                graph.append((i, 1 + j))\n",
        "    \n",
        "    return graph\n",
        "\n",
        "n = int(input())\n",
        "result_list = floyd(n)\n",
        "\n",
        "for result in result_list:\n",
        "    for i, num in enumerate(result):\n",
        "\n",
        "        if i == n - 1:\n",
        "            if num == float(\"inf\"):\n",
        "                print(0)\n",
        "            else:\n",
        "                print(1)\n",
        "\n",
        "        else:\n",
        "            if num == float(\"inf\"):\n",
        "                print(0, end= \" \")\n",
        "            else:\n",
        "                print(1, end=\" \")"
      ]
    }
  ]
}