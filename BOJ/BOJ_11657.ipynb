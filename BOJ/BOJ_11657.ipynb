{
  "nbformat": 4,
  "nbformat_minor": 0,
  "metadata": {
    "colab": {
      "name": "BOJ_11657.ipynb",
      "provenance": [],
      "authorship_tag": "ABX9TyOe8CRSj9BeKJr3wUUh+4ms"
    },
    "kernelspec": {
      "name": "python3",
      "display_name": "Python 3"
    },
    "language_info": {
      "name": "python"
    }
  },
  "cells": [
    {
      "cell_type": "markdown",
      "source": [
        "# [11657] 타임머신\n",
        "\n",
        "* Bellman-Ford"
      ],
      "metadata": {
        "id": "GW-zIx8EzTRt"
      }
    },
    {
      "cell_type": "code",
      "execution_count": 1,
      "metadata": {
        "colab": {
          "base_uri": "https://localhost:8080/"
        },
        "id": "Xa72hTffzRio",
        "outputId": "ac682f67-74ca-4a12-b709-5bbf8039c485"
      },
      "outputs": [
        {
          "output_type": "stream",
          "name": "stdout",
          "text": [
            "3 4\n",
            "1 2 4\n",
            "1 3 3\n",
            "2 3 -4\n",
            "3 1 -2\n",
            "-1\n"
          ]
        }
      ],
      "source": [
        "def bellman_ford(graph, n, start):\n",
        "\n",
        "    dist = [float(\"inf\")] * (1 + n)\n",
        "    dist[start] = 0\n",
        "\n",
        "    for i in range(n):\n",
        "        for v, w, d in graph:\n",
        "            if (dist[v] != float(\"inf\")) and (dist[w] > dist[v] + d):\n",
        "                if i == n - 1:\n",
        "                    return [-1]\n",
        "                dist[w] = dist[v] + d\n",
        "\n",
        "    return dist\n",
        "\n",
        "def make_graph(m):\n",
        "\n",
        "    graph = []\n",
        "\n",
        "    for _ in range(m):\n",
        "        graph.append(list(map(int, input().split())))\n",
        "   \n",
        "    return graph\n",
        "\n",
        "n, m = map(int, input().split())\n",
        "graph = make_graph(m)\n",
        "\n",
        "result_list = bellman_ford(graph, n, 1)\n",
        "\n",
        "if result_list == [-1]:\n",
        "    print(*result_list)\n",
        "\n",
        "else:\n",
        "    for result in result_list[2:]:\n",
        "        if result == float(\"inf\"):\n",
        "            print(-1)\n",
        "        else:\n",
        "            print(result)"
      ]
    }
  ]
}