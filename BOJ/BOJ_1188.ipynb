{
  "nbformat": 4,
  "nbformat_minor": 0,
  "metadata": {
    "colab": {
      "name": "BOJ_1188.ipynb",
      "provenance": [],
      "authorship_tag": "ABX9TyPTgNyex242N6Lf8y9fSb1j"
    },
    "kernelspec": {
      "name": "python3",
      "display_name": "Python 3"
    },
    "language_info": {
      "name": "python"
    }
  },
  "cells": [
    {
      "cell_type": "markdown",
      "source": [
        "# [1188] 음식 평론가\n",
        "\n",
        "* Number Theory"
      ],
      "metadata": {
        "id": "GW-zIx8EzTRt"
      }
    },
    {
      "cell_type": "code",
      "execution_count": 1,
      "metadata": {
        "colab": {
          "base_uri": "https://localhost:8080/"
        },
        "id": "Xa72hTffzRio",
        "outputId": "0a01137d-8cc0-49f0-884a-968950380dec"
      },
      "outputs": [
        {
          "output_type": "stream",
          "name": "stdout",
          "text": [
            "2 6\n",
            "4\n"
          ]
        }
      ],
      "source": [
        "from math import gcd\n",
        "\n",
        "n, m = map(int, input().split())\n",
        "\n",
        "if n % m == 0:\n",
        "    print(0)\n",
        "\n",
        "else:\n",
        "    print(m - gcd(n, m))"
      ]
    }
  ]
}