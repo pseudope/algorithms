{
  "nbformat": 4,
  "nbformat_minor": 0,
  "metadata": {
    "colab": {
      "name": "BOJ_1238.ipynb",
      "provenance": [],
      "authorship_tag": "ABX9TyPUT9E/ImjGQEzLJqs/DwJd"
    },
    "kernelspec": {
      "name": "python3",
      "display_name": "Python 3"
    },
    "language_info": {
      "name": "python"
    }
  },
  "cells": [
    {
      "cell_type": "markdown",
      "source": [
        "# [1238] 파티\n",
        "\n",
        "* Dijkstra"
      ],
      "metadata": {
        "id": "GW-zIx8EzTRt"
      }
    },
    {
      "cell_type": "code",
      "execution_count": 2,
      "metadata": {
        "colab": {
          "base_uri": "https://localhost:8080/"
        },
        "id": "Xa72hTffzRio",
        "outputId": "cd12032e-d980-4b58-dfb5-0313a4715927"
      },
      "outputs": [
        {
          "output_type": "stream",
          "name": "stdout",
          "text": [
            "4 8 2\n",
            "1 2 4\n",
            "1 3 2\n",
            "1 4 7\n",
            "2 1 1\n",
            "2 3 5\n",
            "3 1 2\n",
            "3 4 4\n",
            "4 2 3\n",
            "10\n"
          ]
        }
      ],
      "source": [
        "def dijkstra(graph, start):\n",
        "    \n",
        "    import heapq\n",
        "\n",
        "    dist_list = {i: float(\"inf\") for i in graph}\n",
        "    dist_list[start] = 0\n",
        "\n",
        "    heap = []\n",
        "    heapq.heappush(heap, [dist_list[start], start])\n",
        "\n",
        "    while heap:\n",
        "        dist_now, dest_now = heapq.heappop(heap)\n",
        "\n",
        "        if dist_list[dest_now] < dist_now:\n",
        "            continue\n",
        "        \n",
        "        for dest_new, dist_new in graph[dest_now].items():\n",
        "            dist = dist_now + dist_new\n",
        "\n",
        "            if dist < dist_list[dest_new]:\n",
        "                dist_list[dest_new] = dist\n",
        "                heapq.heappush(heap, [dist, dest_new])\n",
        "    \n",
        "    return dist_list\n",
        "\n",
        "def make_graph(n, m):\n",
        "\n",
        "    graph = {i: {} for i in range(1, 1 + n)}\n",
        "\n",
        "    for _ in range(m):\n",
        "\n",
        "        a, b, c = map(int, input().split())\n",
        "\n",
        "        try:\n",
        "            if graph[a][b] > c:\n",
        "                graph[a][b] = c\n",
        "        except:\n",
        "            graph[a][b] = c\n",
        "\n",
        "    return graph\n",
        "\n",
        "n, m, x = map(int, input().split())\n",
        "\n",
        "graph = make_graph(n, m)\n",
        "\n",
        "result_dict = {}\n",
        "backward = dijkstra(graph, x)\n",
        "\n",
        "for start in range(1, 1 + n):\n",
        "    result_dict[start] = dijkstra(graph, start)[x] + backward[start]\n",
        "\n",
        "print(max(result_dict.values()))"
      ]
    }
  ]
}