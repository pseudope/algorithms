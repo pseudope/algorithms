{
  "nbformat": 4,
  "nbformat_minor": 0,
  "metadata": {
    "colab": {
      "name": "BOJ_1275.ipynb",
      "provenance": [],
      "authorship_tag": "ABX9TyNeO/c4aLovcoM0U+Iy3XJa"
    },
    "kernelspec": {
      "name": "python3",
      "display_name": "Python 3"
    },
    "language_info": {
      "name": "python"
    }
  },
  "cells": [
    {
      "cell_type": "markdown",
      "source": [
        "# [1275] 커피숍 2\n",
        "\n",
        "* Segment Tree"
      ],
      "metadata": {
        "id": "GW-zIx8EzTRt"
      }
    },
    {
      "cell_type": "code",
      "execution_count": 1,
      "metadata": {
        "colab": {
          "base_uri": "https://localhost:8080/"
        },
        "id": "Xa72hTffzRio",
        "outputId": "df4588a8-71b6-4622-ca17-3c5423d9df0b"
      },
      "outputs": [
        {
          "output_type": "stream",
          "name": "stdout",
          "text": [
            "5 2\n",
            "1 2 3 4 5\n",
            "2 3 3 1\n",
            "5\n",
            "3 5 4 1\n",
            "10\n"
          ]
        }
      ],
      "source": [
        "from math import log2, ceil\n",
        "\n",
        "def init(start, end, node):\n",
        "\n",
        "    if start == end:\n",
        "        tree[node] = num_list[start]\n",
        "    else:\n",
        "        mid = (start + end) // 2\n",
        "        l = init(start, mid, 2 * node)\n",
        "        r = init(mid + 1, end, 2 * node + 1)\n",
        "        tree[node] = l + r\n",
        "\n",
        "    return tree[node]\n",
        "\n",
        "def update(start, end, node, index, diff):\n",
        "    if not (start <= index <= end):\n",
        "        return None\n",
        "\n",
        "    tree[node] += diff\n",
        "\n",
        "    if start != end:\n",
        "        mid = (start + end) // 2\n",
        "        update(start, mid, 2 * node, index, diff)\n",
        "        update(mid + 1, end, 2 * node + 1, index, diff)\n",
        "\n",
        "def query(start, end, node, left, right):\n",
        "\n",
        "    if (end < left) or (right < start):\n",
        "        return 0\n",
        "\n",
        "    elif (left <= start) and (end <= right):\n",
        "        return tree[node]\n",
        "\n",
        "    else:\n",
        "        mid = (start + end) // 2\n",
        "        l = query(start, mid, 2 * node, left, right)\n",
        "        r = query(mid + 1, end, 2 * node + 1, left, right)\n",
        "        return l + r\n",
        "\n",
        "n, q = map(int, input().split())\n",
        "num_list = list(map(int, input().split()))\n",
        "tree = [0] * (2 ** (1 + ceil(log2(n))))\n",
        "\n",
        "init(0, n - 1, 1)\n",
        "\n",
        "for _ in range(q):\n",
        "    x, y, a, b = map(int, input().split())\n",
        "\n",
        "    diff = b - num_list[a - 1]\n",
        "    num_list[a - 1] = b\n",
        "    \n",
        "    print(query(0, n - 1, 1, min(x, y) - 1, max(x, y) - 1))\n",
        "\n",
        "    update(0, n - 1, 1, a - 1, diff)"
      ]
    }
  ]
}