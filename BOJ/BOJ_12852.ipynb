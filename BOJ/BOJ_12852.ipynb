{
  "nbformat": 4,
  "nbformat_minor": 0,
  "metadata": {
    "colab": {
      "name": "BOJ_12852.ipynb",
      "provenance": [],
      "authorship_tag": "ABX9TyN8OcJnVvtGPBp679urZ3PX"
    },
    "kernelspec": {
      "name": "python3",
      "display_name": "Python 3"
    },
    "language_info": {
      "name": "python"
    }
  },
  "cells": [
    {
      "cell_type": "markdown",
      "source": [
        "# [12852] 1로 만들기 2\n",
        "\n",
        "* Dynamic Programming w.r.t. Directed Acyclic Graph"
      ],
      "metadata": {
        "id": "GW-zIx8EzTRt"
      }
    },
    {
      "cell_type": "code",
      "execution_count": 1,
      "metadata": {
        "colab": {
          "base_uri": "https://localhost:8080/"
        },
        "id": "Xa72hTffzRio",
        "outputId": "ff85a3a5-f227-498c-e336-656f3e7b740c"
      },
      "outputs": [
        {
          "output_type": "stream",
          "name": "stdout",
          "text": [
            "10\n",
            "3\n",
            "10 9 3 1 "
          ]
        }
      ],
      "source": [
        "def make_graph(n):\n",
        "    graph = {1 + i: [i] for i in range(1, n)}\n",
        "\n",
        "    for i in range(3, 1 + n):\n",
        "        if i % 2 == 0:\n",
        "            graph[i].append(i // 2)\n",
        "        if i % 3 == 0:\n",
        "            graph[i].append(i // 3)\n",
        "    \n",
        "    return graph\n",
        "\n",
        "n = int(input())\n",
        "reverse_graph = make_graph(n)\n",
        "\n",
        "dist_list = [float(\"inf\")] * (1 + n)\n",
        "dist_list[1] = 0\n",
        "prev = [0] * (1 + n)\n",
        "\n",
        "for i in range(2, 1 + n):\n",
        "    for g in reverse_graph[i]:\n",
        "        if dist_list[i] > 1 + dist_list[g]:\n",
        "            dist_list[i] = 1 + dist_list[g]\n",
        "            prev[i] = g\n",
        "\n",
        "print(dist_list[n])\n",
        "\n",
        "while n > 0:\n",
        "    print(n, end=\" \")\n",
        "    n = prev[n]"
      ]
    }
  ]
}