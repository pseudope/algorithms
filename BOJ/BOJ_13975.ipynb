{
  "nbformat": 4,
  "nbformat_minor": 0,
  "metadata": {
    "colab": {
      "name": "BOJ_13975.ipynb",
      "provenance": [],
      "collapsed_sections": [],
      "authorship_tag": "ABX9TyMTBEUgoP8E70ui8YyUZvZC"
    },
    "kernelspec": {
      "name": "python3",
      "display_name": "Python 3"
    },
    "language_info": {
      "name": "python"
    }
  },
  "cells": [
    {
      "cell_type": "markdown",
      "source": [
        "# [13975] 파일 합치기 3\n",
        "\n",
        "* Huffman Encoding\n",
        "* Greedy\n",
        "* Priority Queue"
      ],
      "metadata": {
        "id": "GW-zIx8EzTRt"
      }
    },
    {
      "cell_type": "code",
      "execution_count": 1,
      "metadata": {
        "colab": {
          "base_uri": "https://localhost:8080/"
        },
        "id": "Xa72hTffzRio",
        "outputId": "c42fb8b3-33b2-41e5-bc2e-1191300a03d1"
      },
      "outputs": [
        {
          "output_type": "stream",
          "name": "stdout",
          "text": [
            "2\n",
            "4\n",
            "40 30 30 50\n",
            "300\n",
            "15\n",
            "1 21 3 4 5 35 5 4 3 5 98 21 14 17 32\n",
            "826\n"
          ]
        }
      ],
      "source": [
        "import heapq\n",
        "\n",
        "def huffman(heap, n):\n",
        "\n",
        "    heapq.heapify(heap)\n",
        "    result = 0\n",
        "\n",
        "    for i in range(1, n):\n",
        "        f1 = heapq.heappop(heap)\n",
        "        f2 = heapq.heappop(heap)\n",
        "        f = f1 + f2\n",
        "        result += f\n",
        "        heapq.heappush(heap, f)\n",
        "    \n",
        "    return result\n",
        "\n",
        "for _ in range(int(input())):\n",
        "    k = int(input())\n",
        "    heap = list(map(int, input().split()))\n",
        "    print(huffman(heap, k))"
      ]
    }
  ]
}