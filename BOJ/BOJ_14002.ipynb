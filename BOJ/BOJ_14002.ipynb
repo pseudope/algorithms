{
  "nbformat": 4,
  "nbformat_minor": 0,
  "metadata": {
    "colab": {
      "name": "BOJ_14002.ipynb",
      "provenance": [],
      "authorship_tag": "ABX9TyNMAocHw9LgbvCeb1G21jc0"
    },
    "kernelspec": {
      "name": "python3",
      "display_name": "Python 3"
    },
    "language_info": {
      "name": "python"
    }
  },
  "cells": [
    {
      "cell_type": "markdown",
      "source": [
        "# [14002] 가장 긴 증가하는 부분 수열 4\n",
        "\n",
        "* Dynamic Programming"
      ],
      "metadata": {
        "id": "GW-zIx8EzTRt"
      }
    },
    {
      "cell_type": "code",
      "execution_count": 1,
      "metadata": {
        "colab": {
          "base_uri": "https://localhost:8080/"
        },
        "id": "Xa72hTffzRio",
        "outputId": "67044b71-912e-4a2a-c5a8-a46e8e685274"
      },
      "outputs": [
        {
          "output_type": "stream",
          "name": "stdout",
          "text": [
            "6\n",
            "10 20 10 30 20 50\n",
            "4\n",
            "10 20 30 50\n"
          ]
        }
      ],
      "source": [
        "n = int(input())\n",
        "num_list = list(map(int, input().split()))\n",
        "\n",
        "dp = [1] * n\n",
        "\n",
        "for i in range(1, n):\n",
        "    for j in range(0, i):\n",
        "        if num_list[j] < num_list[i]:\n",
        "            dp[i] = max(dp[i], 1 + dp[j])\n",
        "\n",
        "maximum = max(dp)\n",
        "print(maximum)\n",
        "\n",
        "index = dp.index(maximum)\n",
        "result_list = []\n",
        "\n",
        "while index > -1:\n",
        "    if dp[index] == maximum:\n",
        "        result_list.append(num_list[index])\n",
        "        maximum -= 1\n",
        "    index -= 1\n",
        "\n",
        "result_list.reverse()\n",
        "print(*result_list)"
      ]
    }
  ]
}