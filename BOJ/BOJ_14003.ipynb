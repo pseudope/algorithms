{
  "nbformat": 4,
  "nbformat_minor": 0,
  "metadata": {
    "colab": {
      "name": "BOJ_14003.ipynb",
      "provenance": [],
      "authorship_tag": "ABX9TyNC7n+k7HjA3/teAtguF9wv"
    },
    "kernelspec": {
      "name": "python3",
      "display_name": "Python 3"
    },
    "language_info": {
      "name": "python"
    }
  },
  "cells": [
    {
      "cell_type": "markdown",
      "source": [
        "# [14003] 가장 긴 증가하는 부분 수열 5\n",
        "\n",
        "* Binary Search"
      ],
      "metadata": {
        "id": "GW-zIx8EzTRt"
      }
    },
    {
      "cell_type": "code",
      "execution_count": 2,
      "metadata": {
        "colab": {
          "base_uri": "https://localhost:8080/"
        },
        "id": "Xa72hTffzRio",
        "outputId": "ed7ad711-773e-4cae-abb1-ddf53d4d04b3"
      },
      "outputs": [
        {
          "output_type": "stream",
          "name": "stdout",
          "text": [
            "6\n",
            "10 20 10 30 20 50\n",
            "4\n",
            "10 20 30 50\n"
          ]
        }
      ],
      "source": [
        "from bisect import bisect_left\n",
        "\n",
        "n = int(input())\n",
        "num_list = list(map(int, input().split()))\n",
        "result_list = [float(\"inf\")] * n\n",
        "index_list = [0] * n\n",
        "\n",
        "for i, num in enumerate(num_list):\n",
        "\n",
        "    foo = bisect_left(result_list, num)\n",
        "    result_list[foo] = num\n",
        "    index_list[i] = foo\n",
        "\n",
        "print(bisect_left(result_list, float(\"inf\")))\n",
        "\n",
        "answer_list = []\n",
        "maximum = max(index_list)\n",
        "\n",
        "for j in range(n - 1, -1, -1):\n",
        "    if index_list[j] == maximum:\n",
        "        answer_list.append(num_list[j])\n",
        "        maximum -= 1\n",
        "\n",
        "answer_list.reverse()\n",
        "\n",
        "print(*answer_list)"
      ]
    }
  ]
}