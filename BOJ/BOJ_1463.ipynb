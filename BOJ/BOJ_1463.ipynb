{
  "nbformat": 4,
  "nbformat_minor": 0,
  "metadata": {
    "colab": {
      "name": "BOJ_1463.ipynb",
      "provenance": [],
      "authorship_tag": "ABX9TyM+Kn7rLRFi7ca2Tt95wMWo"
    },
    "kernelspec": {
      "name": "python3",
      "display_name": "Python 3"
    },
    "language_info": {
      "name": "python"
    }
  },
  "cells": [
    {
      "cell_type": "markdown",
      "source": [
        "# [1463] 1로 만들기\n",
        "\n",
        "* Dynammic Programming"
      ],
      "metadata": {
        "id": "GW-zIx8EzTRt"
      }
    },
    {
      "cell_type": "code",
      "execution_count": 1,
      "metadata": {
        "colab": {
          "base_uri": "https://localhost:8080/"
        },
        "id": "Xa72hTffzRio",
        "outputId": "38cd439e-e40f-45f3-fe9f-bd2ff4fbc088"
      },
      "outputs": [
        {
          "output_type": "stream",
          "name": "stdout",
          "text": [
            "10\n",
            "3\n"
          ]
        }
      ],
      "source": [
        "n = int(input())\n",
        "\n",
        "if n == 1:\n",
        "    print(0)\n",
        "\n",
        "elif (n == 2) or (n == 3):\n",
        "    print(1)\n",
        "\n",
        "else:\n",
        "    base = [n]\n",
        "    count = 0\n",
        "\n",
        "    for i in range(n):\n",
        "\n",
        "        count += 1\n",
        "        new_base = []\n",
        "\n",
        "        for num in base:\n",
        "            \n",
        "            if num % 2 == 0:\n",
        "                new_base.append(num // 2)\n",
        "            if num % 3 == 0:\n",
        "                new_base.append(num // 3)\n",
        "            \n",
        "            new_base.append(num - 1)\n",
        "        \n",
        "        if 1 in new_base:\n",
        "            print(count)\n",
        "\n",
        "            break\n",
        "        \n",
        "        else:\n",
        "            base = list(set(new_base))"
      ]
    }
  ]
}