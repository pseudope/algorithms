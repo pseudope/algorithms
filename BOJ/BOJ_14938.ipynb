{
  "nbformat": 4,
  "nbformat_minor": 0,
  "metadata": {
    "colab": {
      "name": "BOJ_14938.ipynb",
      "provenance": [],
      "authorship_tag": "ABX9TyPBgtLJ2VeBRwxAEdhq1JtO"
    },
    "kernelspec": {
      "name": "python3",
      "display_name": "Python 3"
    },
    "language_info": {
      "name": "python"
    }
  },
  "cells": [
    {
      "cell_type": "markdown",
      "source": [
        "# [14938] 서강그라운드\n",
        "\n",
        "* Dijkstra"
      ],
      "metadata": {
        "id": "GW-zIx8EzTRt"
      }
    },
    {
      "cell_type": "code",
      "execution_count": 1,
      "metadata": {
        "colab": {
          "base_uri": "https://localhost:8080/"
        },
        "id": "Xa72hTffzRio",
        "outputId": "919b48b6-b93b-4ffe-c05c-9bd8f53d2970"
      },
      "outputs": [
        {
          "output_type": "stream",
          "name": "stdout",
          "text": [
            "5 5 4\n",
            "5 7 8 2 3\n",
            "1 4 5\n",
            "5 2 4\n",
            "3 2 3\n",
            "1 2 3\n",
            "23\n"
          ]
        }
      ],
      "source": [
        "def dijkstra(graph, start):\n",
        "    \n",
        "    import heapq\n",
        "\n",
        "    dist_list = {i: float(\"inf\") for i in graph}\n",
        "    dist_list[start] = 0\n",
        "\n",
        "    heap = []\n",
        "    heapq.heappush(heap, [dist_list[start], start])\n",
        "\n",
        "    while heap:\n",
        "        dist_now, dest_now = heapq.heappop(heap)\n",
        "\n",
        "        if dist_list[dest_now] < dist_now:\n",
        "            continue\n",
        "        \n",
        "        for dest_new, dist_new in graph[dest_now].items():\n",
        "            dist = dist_now + dist_new\n",
        "\n",
        "            if dist < dist_list[dest_new]:\n",
        "                dist_list[dest_new] = dist\n",
        "                heapq.heappush(heap, [dist, dest_new])\n",
        "    \n",
        "    return dist_list\n",
        "\n",
        "def make_graph(n, r):\n",
        "\n",
        "    graph = {i: {} for i in range(1, 1 + n)}\n",
        "\n",
        "    for _ in range(r):\n",
        "\n",
        "        a, b, c = map(int, input().split())\n",
        "\n",
        "        try:\n",
        "            if graph[a][b] > c:\n",
        "                graph[a][b] = c\n",
        "        except:\n",
        "            graph[a][b] = c\n",
        "        \n",
        "        try:\n",
        "            if graph[b][a] > c:\n",
        "                graph[b][a] = c\n",
        "        except:\n",
        "            graph[b][a] = c\n",
        "\n",
        "    return graph\n",
        "\n",
        "n, m, r = map(int, input().split())\n",
        "point_list = list(map(int, input().split()))\n",
        "\n",
        "graph = make_graph(n, r)\n",
        "result_list = []\n",
        "\n",
        "for start in range(1, 1 + n):\n",
        "    \n",
        "    dist_dict = dijkstra(graph, start)\n",
        "    item = 0\n",
        "\n",
        "    for i in range(1, 1 + n):\n",
        "\n",
        "        if dist_dict[i] <= m:\n",
        "            item += point_list[i - 1]\n",
        "        \n",
        "    result_list.append(item)\n",
        "\n",
        "print(max(result_list))"
      ]
    }
  ]
}