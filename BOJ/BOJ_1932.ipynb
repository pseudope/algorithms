{
  "nbformat": 4,
  "nbformat_minor": 0,
  "metadata": {
    "colab": {
      "name": "BOJ_1932.ipynb",
      "provenance": [],
      "authorship_tag": "ABX9TyOpkT9HNR6ojODyBx6VX0Qh"
    },
    "kernelspec": {
      "name": "python3",
      "display_name": "Python 3"
    },
    "language_info": {
      "name": "python"
    }
  },
  "cells": [
    {
      "cell_type": "markdown",
      "source": [
        "# [1932] 정수 삼각형\n",
        "\n",
        "* Dynammic Programming"
      ],
      "metadata": {
        "id": "2XhA6peZpPR1"
      }
    },
    {
      "cell_type": "code",
      "execution_count": 1,
      "metadata": {
        "colab": {
          "base_uri": "https://localhost:8080/"
        },
        "id": "eMETYibopOem",
        "outputId": "623c87ca-2647-4241-9b37-b5c61a735f1c"
      },
      "outputs": [
        {
          "output_type": "stream",
          "name": "stdout",
          "text": [
            "5\n",
            "7\n",
            "3 8\n",
            "8 1 0\n",
            "2 7 4 4\n",
            "4 5 2 6 5\n",
            "30\n"
          ]
        }
      ],
      "source": [
        "n = int(input())\n",
        "\n",
        "if n == 1:\n",
        "    result = (int(input()))\n",
        "\n",
        "else:\n",
        "    num_list = []\n",
        "\n",
        "    a = int(input())\n",
        "    b, c = map(int, input().split())\n",
        "\n",
        "    base = {0: a + b, 1: a + c}\n",
        "\n",
        "    if n == 2:\n",
        "        result = max(base[0], base[1])\n",
        "    \n",
        "    else:\n",
        "        for i in range(2, n):\n",
        "            num_list = list(map(int, input().split()))\n",
        "            new_base = {}\n",
        "\n",
        "            for j in range(i + 1):\n",
        "\n",
        "                if j == 0:\n",
        "                    new_base[j] = base[0] + num_list[0]\n",
        "                \n",
        "                elif j == i:\n",
        "                    new_base[j] = base[j - 1] + num_list[j]\n",
        "                \n",
        "                else:\n",
        "                    new_base[j] = max(base[j], base[j - 1]) + num_list[j]\n",
        "                \n",
        "            base = new_base\n",
        "      \n",
        "        result = max(base.values())\n",
        "\n",
        "print(result)"
      ]
    }
  ]
}