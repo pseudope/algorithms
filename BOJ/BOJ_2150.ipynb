{
  "nbformat": 4,
  "nbformat_minor": 0,
  "metadata": {
    "colab": {
      "name": "BOJ_2150.ipynb",
      "provenance": [],
      "authorship_tag": "ABX9TyN4kdgoH/acSWUQ9Llm8irZ"
    },
    "kernelspec": {
      "name": "python3",
      "display_name": "Python 3"
    },
    "language_info": {
      "name": "python"
    }
  },
  "cells": [
    {
      "cell_type": "markdown",
      "source": [
        "# [2150] Strongly Connected Component\n",
        "\n",
        "* Strongly Connected Component"
      ],
      "metadata": {
        "id": "GW-zIx8EzTRt"
      }
    },
    {
      "cell_type": "code",
      "execution_count": 1,
      "metadata": {
        "colab": {
          "base_uri": "https://localhost:8080/"
        },
        "id": "Xa72hTffzRio",
        "outputId": "c502739c-4944-4df7-b3c3-ef7cbbea35a3"
      },
      "outputs": [
        {
          "output_type": "stream",
          "name": "stdout",
          "text": [
            "7 9\n",
            "1 4\n",
            "4 5\n",
            "5 1\n",
            "1 6\n",
            "6 7\n",
            "2 7\n",
            "7 3\n",
            "3 7\n",
            "7 2\n",
            "3\n",
            "1 4 5 -1\n",
            "2 3 7 -1\n",
            "6 -1\n"
          ]
        }
      ],
      "source": [
        "import sys\n",
        "\n",
        "def iterative_dfs(graph, v, stack, visited):\n",
        "\n",
        "    visited[v] = 1\n",
        "\n",
        "    for w in graph[v]:\n",
        "        if visited[w] == 0:\n",
        "            stack.append(w)\n",
        "            iterative_dfs(graph, w, stack, visited)\n",
        "    \n",
        "    stack.append(v)\n",
        "\n",
        "def iterative_dfs_reverse(reverse_graph, v, stack, visited):\n",
        "\n",
        "    visited[v] = 1\n",
        "    stack.append(v)\n",
        "\n",
        "    for w in reverse_graph[v]:\n",
        "        if visited[w] == 0:\n",
        "            iterative_dfs_reverse(reverse_graph, w, stack, visited)\n",
        "\n",
        "def make_graph(m):\n",
        "\n",
        "    graph = {i: [] for i in range(1, 1 + n)}\n",
        "    reverse_graph = {i: [] for i in range(1, 1 + n)}\n",
        "\n",
        "    for _ in range(m):\n",
        "\n",
        "        a, b = map(int, input().split())\n",
        "\n",
        "        if a not in graph:\n",
        "            graph[a] = [b]\n",
        "        else:\n",
        "            graph[a].append(b)\n",
        "\n",
        "        if b not in graph:\n",
        "            reverse_graph[b] = [a]\n",
        "        else:\n",
        "            reverse_graph[b].append(a)\n",
        "    \n",
        "    for i in graph:\n",
        "        graph[i].sort()\n",
        "        reverse_graph[i].sort()\n",
        "   \n",
        "    return graph, reverse_graph\n",
        "\n",
        "sys.setrecursionlimit(100000)\n",
        "\n",
        "n, m = list(map(int, input().split()))\n",
        "graph, reverse_graph = make_graph(m)\n",
        "\n",
        "visited = [0] * (1 + n)\n",
        "stack = []\n",
        "\n",
        "for i in range(1, 1 + n):\n",
        "    if visited[i] == 0:\n",
        "        iterative_dfs(graph, i, stack, visited)\n",
        "\n",
        "visited = [0] * (1 + n)\n",
        "result_list = []\n",
        "\n",
        "while stack:\n",
        "    ssc = []\n",
        "    v = stack.pop()\n",
        "\n",
        "    if visited[v] == 0:\n",
        "        iterative_dfs_reverse(reverse_graph, v, ssc, visited)\n",
        "        result_list.append(sorted(ssc))\n",
        "\n",
        "result_list.sort()\n",
        "\n",
        "print(len(result_list))\n",
        "\n",
        "for result in result_list:\n",
        "    print(*result, -1)"
      ]
    }
  ]
}