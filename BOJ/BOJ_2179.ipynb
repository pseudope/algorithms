{
  "nbformat": 4,
  "nbformat_minor": 0,
  "metadata": {
    "colab": {
      "name": "BOJ_2179.ipynb",
      "provenance": [],
      "collapsed_sections": [],
      "authorship_tag": "ABX9TyM3NgFsJH/9e9F08/ifCumb"
    },
    "kernelspec": {
      "name": "python3",
      "display_name": "Python 3"
    },
    "language_info": {
      "name": "python"
    }
  },
  "cells": [
    {
      "cell_type": "markdown",
      "source": [
        "# [2179] 비슷한 단어\n",
        "\n",
        "* String\n",
        "* Sorting\n",
        "* Priority Queue"
      ],
      "metadata": {
        "id": "GW-zIx8EzTRt"
      }
    },
    {
      "cell_type": "code",
      "execution_count": 1,
      "metadata": {
        "colab": {
          "base_uri": "https://localhost:8080/"
        },
        "id": "Xa72hTffzRio",
        "outputId": "053baf2c-4a18-46a1-cf48-6aa7c9cf316b"
      },
      "outputs": [
        {
          "output_type": "stream",
          "name": "stdout",
          "text": [
            "4\n",
            "abcd\n",
            "abe\n",
            "abc\n",
            "abchldp\n",
            "abcd\n",
            "abc\n"
          ]
        }
      ],
      "source": [
        "import heapq\n",
        "\n",
        "n = int(input())\n",
        "word_heap, result_heap, dummy_list = [], [], []\n",
        "heapq.heapify(word_heap)\n",
        "heapq.heapify(result_heap)\n",
        "\n",
        "for i in range(n):\n",
        "    word = str(input())\n",
        "    heapq.heappush(word_heap, (word, i))\n",
        "\n",
        "word_a, index_a = heapq.heappop(word_heap)\n",
        "prefix = \"\"\n",
        "\n",
        "while word_heap:\n",
        "    word_b, index_b = heapq.heappop(word_heap)\n",
        "\n",
        "    count = \"\"\n",
        "    while len(count) < min(len(word_a), len(word_b)):\n",
        "        if word_a[len(count)] == word_b[len(count)]:\n",
        "            count += word_a[len(count)]\n",
        "        else:\n",
        "            break\n",
        "    \n",
        "    heapq.heappush(result_heap, (-len(count), sorted([(index_a, word_a),\n",
        "                                                      (index_b, word_b)])))\n",
        "    \n",
        "    if prefix == count:\n",
        "        for dummy in dummy_list:\n",
        "            heapq.heappush(result_heap, (-len(count), sorted([(index_b, word_b),\n",
        "                                                              dummy])))\n",
        "        dummy_list.append((index_b, word_b))\n",
        "    \n",
        "    else:\n",
        "        dummy_list = [(index_a, word_a), (index_b, word_b)]\n",
        "        prefix = count\n",
        "    \n",
        "    word_a, index_a = word_b, index_b\n",
        "    \n",
        "result = heapq.heappop(result_heap)[-1]\n",
        "\n",
        "print(result[0][-1])\n",
        "print(result[-1][-1])"
      ]
    }
  ]
}