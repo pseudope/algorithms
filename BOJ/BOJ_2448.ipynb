{
  "nbformat": 4,
  "nbformat_minor": 0,
  "metadata": {
    "colab": {
      "name": "BOJ_2448.ipynb",
      "provenance": [],
      "authorship_tag": "ABX9TyNpM0jK1kFMlC8a8z81rBWa"
    },
    "kernelspec": {
      "name": "python3",
      "display_name": "Python 3"
    },
    "language_info": {
      "name": "python"
    }
  },
  "cells": [
    {
      "cell_type": "markdown",
      "source": [
        "# [2448] 별 찍기 - 11\n",
        "\n",
        "* Divide and Conquer"
      ],
      "metadata": {
        "id": "GW-zIx8EzTRt"
      }
    },
    {
      "cell_type": "code",
      "execution_count": 1,
      "metadata": {
        "colab": {
          "base_uri": "https://localhost:8080/"
        },
        "id": "Xa72hTffzRio",
        "outputId": "95e2f71c-cea2-43a4-87ac-3a7c769be936"
      },
      "outputs": [
        {
          "output_type": "stream",
          "name": "stdout",
          "text": [
            "24\n",
            "                       *                       \n",
            "                      * *                      \n",
            "                     *****                     \n",
            "                    *     *                    \n",
            "                   * *   * *                   \n",
            "                  ***** *****                  \n",
            "                 *           *                 \n",
            "                * *         * *                \n",
            "               *****       *****               \n",
            "              *     *     *     *              \n",
            "             * *   * *   * *   * *             \n",
            "            ***** ***** ***** *****            \n",
            "           *                       *           \n",
            "          * *                     * *          \n",
            "         *****                   *****         \n",
            "        *     *                 *     *        \n",
            "       * *   * *               * *   * *       \n",
            "      ***** *****             ***** *****      \n",
            "     *           *           *           *     \n",
            "    * *         * *         * *         * *    \n",
            "   *****       *****       *****       *****   \n",
            "  *     *     *     *     *     *     *     *  \n",
            " * *   * *   * *   * *   * *   * *   * *   * * \n",
            "***** ***** ***** ***** ***** ***** ***** *****\n"
          ]
        }
      ],
      "source": [
        "def divide_and_conquer(n):\n",
        "\n",
        "    if n == 3:\n",
        "        result_list = [\"  *  \", \" * * \", \"*****\"]\n",
        "    \n",
        "    else:\n",
        "        star_list = divide_and_conquer(n // 2)\n",
        "        result_list = []\n",
        "\n",
        "        k = n // 6\n",
        "\n",
        "        for i in range(k):\n",
        "            result_list.append(\" \" * 3 * k + star_list[3 * i] + \" \" * 3 * k)\n",
        "            result_list.append(\" \" * 3 * k + star_list[3 * i + 1] + \" \" * 3 * k)\n",
        "            result_list.append(\" \" * 3 * k + star_list[3 * i + 2] + \" \" * 3 * k)\n",
        "            \n",
        "        for i in range(k):\n",
        "            result_list.append(star_list[3 * i] + \" \" + star_list[3 * i])\n",
        "            result_list.append(star_list[3 * i + 1] + \" \" + star_list[3 * i + 1])\n",
        "            result_list.append(star_list[3 * i + 2] + \" \" + star_list[3 * i + 2])\n",
        "    \n",
        "    return result_list\n",
        "\n",
        "for row in divide_and_conquer(int(input())):\n",
        "    print(row)"
      ]
    }
  ]
}
