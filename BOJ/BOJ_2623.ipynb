{
  "nbformat": 4,
  "nbformat_minor": 0,
  "metadata": {
    "colab": {
      "name": "BOJ_2623.ipynb",
      "provenance": [],
      "authorship_tag": "ABX9TyNK4f0BF7hBGbaDHTuj7iiX"
    },
    "kernelspec": {
      "name": "python3",
      "display_name": "Python 3"
    },
    "language_info": {
      "name": "python"
    }
  },
  "cells": [
    {
      "cell_type": "markdown",
      "source": [
        "# [2623] 음악프로그램\n",
        "\n",
        "* Topological Sort"
      ],
      "metadata": {
        "id": "GW-zIx8EzTRt"
      }
    },
    {
      "cell_type": "code",
      "execution_count": 1,
      "metadata": {
        "colab": {
          "base_uri": "https://localhost:8080/"
        },
        "id": "Xa72hTffzRio",
        "outputId": "d711085b-1353-4bf5-d47c-881538d712ce"
      },
      "outputs": [
        {
          "output_type": "stream",
          "name": "stdout",
          "text": [
            "6 3\n",
            "3 1 4 3\n",
            "4 6 2 5 4\n",
            "2 2 3\n",
            "1\n",
            "6\n",
            "2\n",
            "5\n",
            "4\n",
            "3\n"
          ]
        }
      ],
      "source": [
        "def topological_sort(graph, indegree_list):\n",
        "\n",
        "    import heapq\n",
        "\n",
        "    result_list = []\n",
        "    queue = []\n",
        "    heapq.heapify(queue)\n",
        "\n",
        "    for i in range(1, 1 + n):\n",
        "        if indegree_list[i] == 0:\n",
        "            heapq.heappush(queue, i)\n",
        "    \n",
        "    while queue:\n",
        "        v = heapq.heappop(queue)\n",
        "        result_list.append(v)\n",
        "\n",
        "        for w in graph[v]:\n",
        "            indegree_list[w] -= 1\n",
        "\n",
        "            if indegree_list[w] == 0:\n",
        "                heapq.heappush(queue, w)\n",
        "    \n",
        "    return result_list\n",
        "\n",
        "def make_graph(m):\n",
        "\n",
        "    graph = {i: [] for i in range(1, 1 + n)}\n",
        "    indegree_list = [0] * (1 + n)\n",
        "\n",
        "    for _ in range(m):\n",
        "        num_list = list(map(int, input().split()))\n",
        "\n",
        "        for i in range(1, num_list[0]):\n",
        "            graph[num_list[i]].append(num_list[1 + i])\n",
        "            indegree_list[num_list[1 + i]] += 1\n",
        "    \n",
        "    for i in graph:\n",
        "        graph[i].sort()\n",
        "   \n",
        "    return graph, indegree_list\n",
        "\n",
        "n, m = map(int, input().split())\n",
        "graph, indegree_list = make_graph(m)\n",
        "\n",
        "result_list = topological_sort(graph, indegree_list)\n",
        "\n",
        "if len(result_list) == n:\n",
        "    for result in result_list:\n",
        "        print(result)\n",
        "\n",
        "else:\n",
        "    print(0)"
      ]
    }
  ]
}