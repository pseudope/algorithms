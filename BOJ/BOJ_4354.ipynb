{
  "nbformat": 4,
  "nbformat_minor": 0,
  "metadata": {
    "colab": {
      "name": "BOJ_4354.ipynb",
      "provenance": [],
      "collapsed_sections": [],
      "authorship_tag": "ABX9TyPHNNVIqGn/IYB0jzckXD08"
    },
    "kernelspec": {
      "name": "python3",
      "display_name": "Python 3"
    },
    "language_info": {
      "name": "python"
    }
  },
  "cells": [
    {
      "cell_type": "markdown",
      "source": [
        "# [4354] 문자열 제곱\n",
        "\n",
        "* KMP\n",
        "* String"
      ],
      "metadata": {
        "id": "GW-zIx8EzTRt"
      }
    },
    {
      "cell_type": "code",
      "execution_count": 1,
      "metadata": {
        "colab": {
          "base_uri": "https://localhost:8080/"
        },
        "id": "Xa72hTffzRio",
        "outputId": "0ad53a89-422e-440f-9df8-c94dca611c49"
      },
      "outputs": [
        {
          "name": "stdout",
          "output_type": "stream",
          "text": [
            "abcd\n",
            "1\n",
            "aaaa\n",
            "4\n",
            "ababab\n",
            "3\n",
            ".\n"
          ]
        }
      ],
      "source": [
        "def query(string):\n",
        "\n",
        "    i, l = 0, len(string)\n",
        "    table = [0] * l\n",
        "\n",
        "    for j in range(1, l):\n",
        "        while (i > 0) and (string[i] != string[j]):\n",
        "            i = table[i - 1]\n",
        "        \n",
        "        if string[i] == string[j]:\n",
        "            i += 1\n",
        "            table[j] = i\n",
        "\n",
        "    if l % (l - table[-1]) == 0:\n",
        "        return l // (l - table[-1])\n",
        "    else:\n",
        "        return 1\n",
        "\n",
        "while True:\n",
        "    string = input()\n",
        "\n",
        "    if string == \".\":\n",
        "        break\n",
        "\n",
        "    print(query(string))"
      ]
    }
  ]
}