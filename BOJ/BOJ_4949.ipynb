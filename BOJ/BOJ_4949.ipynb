{
  "nbformat": 4,
  "nbformat_minor": 0,
  "metadata": {
    "colab": {
      "name": "BOJ_4949.ipynb",
      "provenance": [],
      "collapsed_sections": [],
      "authorship_tag": "ABX9TyPc0qdKEAeDV8GJtJexfUyA"
    },
    "kernelspec": {
      "name": "python3",
      "display_name": "Python 3"
    },
    "language_info": {
      "name": "python"
    }
  },
  "cells": [
    {
      "cell_type": "markdown",
      "source": [
        "# [4949] 균형잡힌 세상\n",
        "\n",
        "* Stack\n",
        "* String"
      ],
      "metadata": {
        "id": "GW-zIx8EzTRt"
      }
    },
    {
      "cell_type": "code",
      "execution_count": 1,
      "metadata": {
        "colab": {
          "base_uri": "https://localhost:8080/"
        },
        "id": "Xa72hTffzRio",
        "outputId": "6ff03b20-f7c1-4a7e-eabf-121595cc5181"
      },
      "outputs": [
        {
          "name": "stdout",
          "output_type": "stream",
          "text": [
            "So when I die (the [first] I will see in (heaven) is a score list).\n",
            "yes\n",
            "[ first in ] ( first out ).\n",
            "yes\n",
            "Half Moon tonight (At least it is better than no Moon at all].\n",
            "no\n",
            "A rope may form )( a trail in a maze.\n",
            "no\n",
            "Help( I[m being held prisoner in a fortune cookie factory)].\n",
            "no\n",
            "([ (([( [ ] ) ( ) (( ))] )) ]).\n",
            "yes\n",
            " .\n",
            "yes\n",
            ".\n"
          ]
        }
      ],
      "source": [
        "import re\n",
        "from collections import deque\n",
        "\n",
        "while True:\n",
        "    string  = str(input())\n",
        "\n",
        "    if string == \".\":\n",
        "        break\n",
        "\n",
        "    string = deque(re.sub(\"[a-zA-Z ]\", \"\", string))\n",
        "    stack = deque()\n",
        "\n",
        "\n",
        "    if (string.count(\"(\") != string.count(\")\")) or \\\n",
        "        string.count(\"[\") != string.count(\"]\"):\n",
        "        can = False\n",
        "    else :\n",
        "        can = True\n",
        "\n",
        "    while string and can:\n",
        "        mark = string.popleft()\n",
        "\n",
        "        if (mark == \"(\") or (mark == \"[\"):\n",
        "            stack.append(mark)\n",
        "        \n",
        "        if (mark == \")\"):\n",
        "            while True:\n",
        "                try:\n",
        "                    m = stack.pop()\n",
        "                    if m == \"(\":\n",
        "                        break\n",
        "                except:\n",
        "                    can = False\n",
        "                    break\n",
        "        \n",
        "        if (mark == \"]\"):\n",
        "            while True:\n",
        "                try:\n",
        "                    m = stack.pop()\n",
        "                    if m == \"[\":\n",
        "                        break\n",
        "                except:\n",
        "                    can = False\n",
        "                    break\n",
        "\n",
        "    if can and not stack:\n",
        "        print(\"yes\")\n",
        "    else:\n",
        "        print(\"no\")"
      ]
    }
  ]
}