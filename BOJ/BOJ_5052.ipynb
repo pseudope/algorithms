{
  "nbformat": 4,
  "nbformat_minor": 0,
  "metadata": {
    "colab": {
      "name": "BOJ_5052.ipynb",
      "provenance": [],
      "collapsed_sections": [],
      "authorship_tag": "ABX9TyPtKOmt1q+Qd8IDyvXTcoDm"
    },
    "kernelspec": {
      "name": "python3",
      "display_name": "Python 3"
    },
    "language_info": {
      "name": "python"
    }
  },
  "cells": [
    {
      "cell_type": "markdown",
      "source": [
        "# [5052] 전화번호 목록\n",
        "\n",
        "* Trie"
      ],
      "metadata": {
        "id": "GW-zIx8EzTRt"
      }
    },
    {
      "cell_type": "code",
      "execution_count": 1,
      "metadata": {
        "colab": {
          "base_uri": "https://localhost:8080/"
        },
        "id": "Xa72hTffzRio",
        "outputId": "e2871fb8-8626-4dc9-ddb5-200b95d37c72"
      },
      "outputs": [
        {
          "output_type": "stream",
          "name": "stdout",
          "text": [
            "2\n",
            "3\n",
            "911\n",
            "97625999\n",
            "91125426\n",
            "NO\n",
            "5\n",
            "113\n",
            "12340\n",
            "123440\n",
            "12345\n",
            "98346\n",
            "YES\n"
          ]
        }
      ],
      "source": [
        "from collections import defaultdict\n",
        "\n",
        "class Node:\n",
        "    def __init__(self):\n",
        "        self.word = False\n",
        "        self.child = defaultdict(Node)\n",
        "\n",
        "class Trie:\n",
        "    def __init__(self):\n",
        "        self.root = Node()\n",
        "\n",
        "    def insert(self, s):\n",
        "        node = self.root\n",
        "        for c in s:\n",
        "            node = node.child[c]\n",
        "        node.word = True\n",
        "\n",
        "    def consistent(self, s):\n",
        "        node = self.root\n",
        "        for c in s:\n",
        "            if node.word:\n",
        "                return False\n",
        "            node = node.child[c]\n",
        "        return True\n",
        "\n",
        "for _ in range(int(input())):\n",
        "    trie, num_list, can = Trie(), [], True\n",
        "\n",
        "    for _ in range(int(input())):\n",
        "        s = input()\n",
        "        trie.insert(s)\n",
        "        num_list.append(s)\n",
        "\n",
        "    for s in num_list:\n",
        "        can *= trie.consistent(s)\n",
        "\n",
        "    print(\"YES\" if can else \"NO\")"
      ]
    }
  ]
}