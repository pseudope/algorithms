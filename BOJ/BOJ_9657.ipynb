{
  "nbformat": 4,
  "nbformat_minor": 0,
  "metadata": {
    "colab": {
      "name": "BOJ_9657.ipynb",
      "provenance": [],
      "collapsed_sections": [],
      "authorship_tag": "ABX9TyPSTlNYRR1lW8vPgDtQp2VP"
    },
    "kernelspec": {
      "name": "python3",
      "display_name": "Python 3"
    },
    "language_info": {
      "name": "python"
    }
  },
  "cells": [
    {
      "cell_type": "markdown",
      "source": [
        "# [9657] 돌 게임 3\n",
        "\n",
        "* Dynamic Programming"
      ],
      "metadata": {
        "id": "GW-zIx8EzTRt"
      }
    },
    {
      "cell_type": "code",
      "execution_count": 1,
      "metadata": {
        "colab": {
          "base_uri": "https://localhost:8080/"
        },
        "id": "Xa72hTffzRio",
        "outputId": "db9cd567-49d2-45c5-d47e-854c053843b0"
      },
      "outputs": [
        {
          "output_type": "stream",
          "name": "stdout",
          "text": [
            "6\n",
            "SK\n"
          ]
        }
      ],
      "source": [
        "n = int(input())\n",
        "dp = [1, 1, 0]  + [1] * (n - 2)\n",
        "\n",
        "for i in range(5, 1 + n):\n",
        "    if dp[i - 1] * dp[i - 3] * dp[i - 4]:\n",
        "        dp[i] = 0\n",
        "\n",
        "print(\"SK\" if dp[n] else \"CY\")"
      ]
    }
  ]
}