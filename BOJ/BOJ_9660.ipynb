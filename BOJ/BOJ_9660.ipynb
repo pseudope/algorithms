{
  "nbformat": 4,
  "nbformat_minor": 0,
  "metadata": {
    "colab": {
      "name": "BOJ_9660.ipynb",
      "provenance": [],
      "collapsed_sections": [],
      "authorship_tag": "ABX9TyOKStt2ujFvprO2HbxXGumF"
    },
    "kernelspec": {
      "name": "python3",
      "display_name": "Python 3"
    },
    "language_info": {
      "name": "python"
    }
  },
  "cells": [
    {
      "cell_type": "markdown",
      "source": [
        "# [9660] 돌 게임 6\n",
        "\n",
        "* Game Theory"
      ],
      "metadata": {
        "id": "GW-zIx8EzTRt"
      }
    },
    {
      "cell_type": "code",
      "execution_count": 1,
      "metadata": {
        "colab": {
          "base_uri": "https://localhost:8080/"
        },
        "id": "Xa72hTffzRio",
        "outputId": "f3cfaee6-b0b5-4768-d225-8ece92104009"
      },
      "outputs": [
        {
          "output_type": "stream",
          "name": "stdout",
          "text": [
            "6\n",
            "SK\n"
          ]
        }
      ],
      "source": [
        "n = int(input())\n",
        "print (\"CY\" if (n % 7 == 0 or n % 7 == 2) else \"SK\")"
      ]
    }
  ]
}