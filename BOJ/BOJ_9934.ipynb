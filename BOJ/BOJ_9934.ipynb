{
  "nbformat": 4,
  "nbformat_minor": 0,
  "metadata": {
    "colab": {
      "name": "BOJ_9934.ipynb",
      "provenance": [],
      "authorship_tag": "ABX9TyOszxX2kI0AdqG0guzqhv/0"
    },
    "kernelspec": {
      "name": "python3",
      "display_name": "Python 3"
    },
    "language_info": {
      "name": "python"
    }
  },
  "cells": [
    {
      "cell_type": "markdown",
      "source": [
        "# [9934] 완전 이진 트리\n",
        "\n",
        "* Recusrion"
      ],
      "metadata": {
        "id": "GW-zIx8EzTRt"
      }
    },
    {
      "cell_type": "code",
      "execution_count": 1,
      "metadata": {
        "colab": {
          "base_uri": "https://localhost:8080/"
        },
        "id": "Xa72hTffzRio",
        "outputId": "0e276b0f-e168-417f-f3d3-2e273c8fd8b1"
      },
      "outputs": [
        {
          "output_type": "stream",
          "name": "stdout",
          "text": [
            "3\n",
            "1 6 4 3 5 2 7\n",
            "3\n",
            "6 2\n",
            "1 4 5 7\n"
          ]
        }
      ],
      "source": [
        "def stage(num_list, stage_list, l, count):\n",
        "\n",
        "    try:\n",
        "        stage_list[count].append(num_list.pop(l//2))\n",
        "        left = num_list[:l//2]\n",
        "        right = num_list[l//2:]\n",
        "\n",
        "        count += 1\n",
        "\n",
        "        stage(left, stage_list, l//2, count)\n",
        "        stage(right, stage_list, l//2, count)\n",
        "    \n",
        "    except:\n",
        "        pass\n",
        "    \n",
        "    return stage_list\n",
        "\n",
        "n = int(input())\n",
        "num_list = list(map(int, input().split()))\n",
        "stage_list = [[] for _ in range(n)]\n",
        "result_list = stage(num_list, stage_list, len(num_list), 0)\n",
        "\n",
        "for result in result_list:\n",
        "    print(*result)"
      ]
    }
  ]
}