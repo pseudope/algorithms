{
  "nbformat": 4,
  "nbformat_minor": 0,
  "metadata": {
    "colab": {
      "name": "BOJ_2166.ipynb",
      "provenance": [],
      "authorship_tag": "ABX9TyNLugBDEPTJGO3iC0tMc3S9"
    },
    "kernelspec": {
      "name": "python3",
      "display_name": "Python 3"
    },
    "language_info": {
      "name": "python"
    }
  },
  "cells": [
    {
      "cell_type": "markdown",
      "source": [
        "# [2166] 다각형의 면적\n",
        "\n",
        "* Geometry"
      ],
      "metadata": {
        "id": "GW-zIx8EzTRt"
      }
    },
    {
      "cell_type": "code",
      "execution_count": 1,
      "metadata": {
        "colab": {
          "base_uri": "https://localhost:8080/"
        },
        "id": "Xa72hTffzRio",
        "outputId": "73bbc087-caeb-482a-d26a-aaa77bd2d086"
      },
      "outputs": [
        {
          "output_type": "stream",
          "name": "stdout",
          "text": [
            "4\n",
            "0 0\n",
            "0 10\n",
            "10 10\n",
            "10 0\n",
            "100.0\n"
          ]
        }
      ],
      "source": [
        "def area(x_list, y_list, n):\n",
        "\n",
        "    left_to_right, right_to_left = 0, 0\n",
        "\n",
        "    for i in range(n):\n",
        "        left_to_right += x_list[i] * y_list[1 + i]\n",
        "        right_to_left += x_list[1 + i] * y_list[i]\n",
        "\n",
        "    return round(abs(left_to_right - right_to_left) / 2, 1)\n",
        "\n",
        "n = int(input())\n",
        "x_list, y_list = [], []\n",
        "\n",
        "for _ in range(n):\n",
        "    x, y = map(int, input().split())\n",
        "\n",
        "    x_list.append(x)\n",
        "    y_list.append(y)\n",
        "\n",
        "x_list.append(x_list[0])\n",
        "y_list.append(y_list[0])\n",
        "\n",
        "print(area(x_list, y_list, n))"
      ]
    }
  ]
}