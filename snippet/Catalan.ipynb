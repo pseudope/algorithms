{
  "nbformat": 4,
  "nbformat_minor": 0,
  "metadata": {
    "colab": {
      "name": "Catalan.ipynb",
      "provenance": [],
      "authorship_tag": "ABX9TyMdX7sBRD8x72d89XumKYw1"
    },
    "kernelspec": {
      "name": "python3",
      "display_name": "Python 3"
    },
    "language_info": {
      "name": "python"
    }
  },
  "cells": [
    {
      "cell_type": "markdown",
      "source": [
        "# Catalan Numbers"
      ],
      "metadata": {
        "id": "mkUtVgJmG4oz"
      }
    },
    {
      "cell_type": "markdown",
      "source": [
        "## 1. Factorial\n",
        "\n",
        "$C_n = \\frac{1}{n + 1} \\binom{2n}{n} = \\frac{(2n)!}{n!(n + 1)!}$"
      ],
      "metadata": {
        "id": "6K86n8mqHOxN"
      }
    },
    {
      "cell_type": "code",
      "execution_count": 1,
      "metadata": {
        "id": "nek-o-0iGwXM"
      },
      "outputs": [],
      "source": [
        "from math import factorial as fac\n",
        "\n",
        "def catalan(n):\n",
        "    return fac(2 * n) // (fac(n) * fac(n + 1))"
      ]
    },
    {
      "cell_type": "code",
      "source": [
        "for i in range(10):\n",
        "    print(\"C_{} = {}\".format(i, catalan(i)))"
      ],
      "metadata": {
        "colab": {
          "base_uri": "https://localhost:8080/"
        },
        "id": "Ak_W6NbQbmz1",
        "outputId": "03c7ed54-bd77-4ecf-a0c5-2b0a75e48297"
      },
      "execution_count": 2,
      "outputs": [
        {
          "output_type": "stream",
          "name": "stdout",
          "text": [
            "C_0 = 1\n",
            "C_1 = 1\n",
            "C_2 = 2\n",
            "C_3 = 5\n",
            "C_4 = 14\n",
            "C_5 = 42\n",
            "C_6 = 132\n",
            "C_7 = 429\n",
            "C_8 = 1430\n",
            "C_9 = 4862\n"
          ]
        }
      ]
    },
    {
      "cell_type": "markdown",
      "source": [
        "## 2. Recurrence Relation 1\n",
        "\n",
        "$\\begin{cases}\n",
        "C_{n + 1} = \\frac{2(2n + 1)}{n + 2} C_n\\\\\n",
        "C_0 = 1\\\\\n",
        "\\end{cases}$"
      ],
      "metadata": {
        "id": "hrgv-Pc9afhJ"
      }
    },
    {
      "cell_type": "code",
      "source": [
        "def catalan(n):\n",
        "    dp = [1] + [0] * n\n",
        "    for i in range(n):\n",
        "        dp[1 + i] = 2 * (1 + 2 * i) * dp[i] // (2 + i)\n",
        "    return dp[-1]"
      ],
      "metadata": {
        "id": "OJs3WA4IKHb5"
      },
      "execution_count": 3,
      "outputs": []
    },
    {
      "cell_type": "code",
      "source": [
        "for i in range(10):\n",
        "    print(\"C_{} = {}\".format(i, catalan(i)))"
      ],
      "metadata": {
        "colab": {
          "base_uri": "https://localhost:8080/"
        },
        "id": "wUhbJOBZbF-L",
        "outputId": "864ac97e-226e-44dc-8ac0-e113b4e9ac79"
      },
      "execution_count": 4,
      "outputs": [
        {
          "output_type": "stream",
          "name": "stdout",
          "text": [
            "C_0 = 1\n",
            "C_1 = 1\n",
            "C_2 = 2\n",
            "C_3 = 5\n",
            "C_4 = 14\n",
            "C_5 = 42\n",
            "C_6 = 132\n",
            "C_7 = 429\n",
            "C_8 = 1430\n",
            "C_9 = 4862\n"
          ]
        }
      ]
    },
    {
      "cell_type": "markdown",
      "source": [
        "## 3. Recurrence Relation 2\n",
        "\n",
        "$\\begin{cases}\n",
        "C_{n + 1} = \\sum_{i + j = n} C_i C_j\\\\\n",
        "C_0 = 1\\\\\n",
        "\\end{cases}$"
      ],
      "metadata": {
        "id": "5-eZ2V8UcTQV"
      }
    },
    {
      "cell_type": "code",
      "source": [
        "def catalan(n):\n",
        "    dp = [1] + [0] * n\n",
        "    for i in range(1, 1 + n):\n",
        "        for j in range(i):\n",
        "            dp[i] += dp[j] * dp[i - j - 1]\n",
        "    return dp[-1]"
      ],
      "metadata": {
        "id": "MB1HzrA2b0J3"
      },
      "execution_count": 5,
      "outputs": []
    },
    {
      "cell_type": "code",
      "source": [
        "for i in range(10):\n",
        "    print(\"C_{} = {}\".format(i, catalan(i)))"
      ],
      "metadata": {
        "colab": {
          "base_uri": "https://localhost:8080/"
        },
        "id": "3rI7_pEzcxT1",
        "outputId": "178a505a-3e67-42fc-a1b3-ebc4e7f9086c"
      },
      "execution_count": 6,
      "outputs": [
        {
          "output_type": "stream",
          "name": "stdout",
          "text": [
            "C_0 = 1\n",
            "C_1 = 1\n",
            "C_2 = 2\n",
            "C_3 = 5\n",
            "C_4 = 14\n",
            "C_5 = 42\n",
            "C_6 = 132\n",
            "C_7 = 429\n",
            "C_8 = 1430\n",
            "C_9 = 4862\n"
          ]
        }
      ]
    }
  ]
}