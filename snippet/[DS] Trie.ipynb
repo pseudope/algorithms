{
  "nbformat": 4,
  "nbformat_minor": 0,
  "metadata": {
    "colab": {
      "name": "trie.ipynb",
      "provenance": [],
      "collapsed_sections": [],
      "authorship_tag": "ABX9TyMdJiXEh52sVhn61M5pmT7U"
    },
    "kernelspec": {
      "name": "python3",
      "display_name": "Python 3"
    },
    "language_info": {
      "name": "python"
    }
  },
  "cells": [
    {
      "cell_type": "markdown",
      "source": [
        "# Trie"
      ],
      "metadata": {
        "id": "TNs4kk5EV_HF"
      }
    },
    {
      "cell_type": "code",
      "source": [
        "from collections import defaultdict\n",
        "\n",
        "class Node:\n",
        "    def __init__(self):\n",
        "        self.word = False\n",
        "        self.child = defaultdict(Node)\n",
        "    \n",
        "    def __str__(self, d=0):\n",
        "        s = []\n",
        "        for key in self.child:\n",
        "            s.append(\"{}{}{}\".format(\" \" * d, key,\n",
        "                                     \"\\n\" + self.child[key].__str__(1 + d)))\n",
        "        # s.sort()\n",
        "        return \"\".join(s)\n",
        "\n",
        "class Trie:\n",
        "    def __init__(self):\n",
        "        self.root = Node()\n",
        "    \n",
        "    def __str__(self, d=0):\n",
        "        return self.root.__str__()\n",
        "\n",
        "    def insert(self, s):\n",
        "        node = self.root\n",
        "        for c in s:\n",
        "            node = node.child[c]\n",
        "        node.word = True\n",
        "    \n",
        "    def search(self, s, prefix=False):\n",
        "        node = self.root\n",
        "        for c in s:\n",
        "            if c not in node.child:\n",
        "                return False\n",
        "            node = node.child[c]\n",
        "        if prefix:\n",
        "            return True\n",
        "        return node.word\n",
        "    \n",
        "    def consistent(self, s):\n",
        "        node = self.root\n",
        "        for c in s:\n",
        "            if node.word:\n",
        "                return False\n",
        "            node = node.child[c]\n",
        "        return True"
      ],
      "metadata": {
        "id": "Q3nvsj43oEmv"
      },
      "execution_count": 1,
      "outputs": []
    }
  ]
}
